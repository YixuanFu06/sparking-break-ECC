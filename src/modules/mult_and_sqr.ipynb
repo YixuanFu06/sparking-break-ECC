{
 "cells": [
  {
   "cell_type": "code",
   "execution_count": null,
   "id": "b7d4543c",
   "metadata": {},
   "outputs": [],
   "source": [
    "import tensorcircuit as tc\n",
    "import numpy as np\n",
    "\n",
    "def mult(c: tc.Circuit, x_reg, y_reg, res_reg, p):\n",
    "    \"\"\"\n",
    "    模乘法 |x⟩|y⟩|0⟩ → |x⟩|y⟩|x*y mod p⟩\n",
    "    参数:\n",
    "        c: 量子电路\n",
    "        x_reg, y_reg: 输入寄存器（量子比特位置索引）\n",
    "        x_reg = [0, 1, ..., n-1]\n",
    "        y_reg = [n, n+1, ..., 2n-1]\n",
    "        结果寄存器 res_reg = [2n, 2n+1, ..., 3n-1]\n",
    "        其中 n 是每个寄存器的量子比特数, 电路c包括3n个量子比特\n",
    "        例如 n=3 时，x_reg = [0,1,2], y_reg = [3,4,5], res_reg = [6,7,8]\n",
    "        p: 模数\n",
    "    \"\"\"\n",
    "    n = len(x_reg)  # 假设 x_reg 和 y_reg 长度相同\n",
    "    # 1. 通过连加计算 x*y=Σ (y*2^i) * x_i\n",
    "    for i in range(n):\n",
    "        # 对 x 的每一位 x_i，若为1，则|x⟩|y⟩|psi>->|x⟩|y⟩|psi+y*2^i mod p>\n",
    "        # 当x的第n-i位(也即整体电路的第n-i位, 从最高位向最低位不需要辅助比特)为1时，受控模加法\n",
    "        controll_qubit_add(c, y_reg, res_reg, p, control=n-i)\n",
    "        double(c,res_reg, p)\n",
    "    \n",
    "    # 2. 结果已在 res_reg 中（x*y mod p）\n",
    "    return c\n",
    "\n",
    "def sqr(c: tc.Circuit, x_reg, res_reg, p, n):\n",
    "    \"\"\"\n",
    "    模平方 |x⟩|0⟩ → |x⟩|x² mod p⟩\n",
    "    \"\"\"\n",
    "    for i in range(n):\n",
    "        # 对 x 的每一位 x_i，若为1，则|x⟩|y⟩|psi>->|x⟩|y⟩|psi+y*2^i mod p>\n",
    "        # 当x的第n-i位(也即整体电路的第n-i位, 从最高位向最低位不需要辅助比特)为1时，受控模加法\n",
    "        controll_qubit_add(c, x_reg, res_reg, p, control=n-i)\n",
    "        double(c,res_reg, p)\n",
    "        \n",
    "    return c\n",
    "\n"
   ]
  }
 ],
 "metadata": {
  "kernelspec": {
   "display_name": "tc-tf",
   "language": "python",
   "name": "python3"
  },
  "language_info": {
   "codemirror_mode": {
    "name": "ipython",
    "version": 3
   },
   "file_extension": ".py",
   "mimetype": "text/x-python",
   "name": "python",
   "nbconvert_exporter": "python",
   "pygments_lexer": "ipython3",
   "version": "3.9.23"
  }
 },
 "nbformat": 4,
 "nbformat_minor": 5
}
